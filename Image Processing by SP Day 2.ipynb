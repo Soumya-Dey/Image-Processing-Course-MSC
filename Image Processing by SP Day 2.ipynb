{
 "cells": [
  {
   "cell_type": "markdown",
   "id": "ffda008c",
   "metadata": {},
   "source": [
    "### Reading images into python"
   ]
  },
  {
   "cell_type": "markdown",
   "id": "251a8bf0",
   "metadata": {},
   "source": [
    "- Two primary libraries for reading images are scikit-image and opencv\n",
    "- Pillow (PIL) can also be used\n",
    "- However, it does not import images as numpy arrays; it imports the image as an object\n",
    "- You can convert it into a numpy array using numpy.asarray(image_path)"
   ]
  },
  {
   "cell_type": "code",
   "execution_count": 1,
   "id": "058fc64f",
   "metadata": {},
   "outputs": [],
   "source": [
    "from skimage import io"
   ]
  },
  {
   "cell_type": "code",
   "execution_count": 2,
   "id": "3bc96ee1",
   "metadata": {},
   "outputs": [],
   "source": [
    "img = io.imread(r\"D:\\ML & DL\\IP@SP\\image folder\\stars.jpg\")"
   ]
  },
  {
   "cell_type": "code",
   "execution_count": 3,
   "id": "908535ee",
   "metadata": {},
   "outputs": [
    {
     "name": "stdout",
     "output_type": "stream",
     "text": [
      "(4000, 6000, 3)\n"
     ]
    }
   ],
   "source": [
    "print(img.shape)"
   ]
  },
  {
   "cell_type": "code",
   "execution_count": 4,
   "id": "2d618cbf",
   "metadata": {},
   "outputs": [
    {
     "name": "stdout",
     "output_type": "stream",
     "text": [
      "uint8\n"
     ]
    }
   ],
   "source": [
    "print(img.dtype)"
   ]
  },
  {
   "cell_type": "markdown",
   "id": "4486bd12",
   "metadata": {},
   "source": [
    "- (y, x, c)\n",
    "- (4000 pixels in height of image, 6000 pixels in width of image, RGB channels)\n",
    "- unsigned integers going from 0 to 255"
   ]
  },
  {
   "cell_type": "code",
   "execution_count": 6,
   "id": "2cd2210a",
   "metadata": {},
   "outputs": [
    {
     "name": "stdout",
     "output_type": "stream",
     "text": [
      "9\n",
      "8\n"
     ]
    }
   ],
   "source": [
    "print(img[0][1][2])\n",
    "print(img[3000][5000][1])"
   ]
  },
  {
   "cell_type": "markdown",
   "id": "550189d8",
   "metadata": {},
   "source": [
    "- WAFP to read all the images in image folder and print their size"
   ]
  },
  {
   "cell_type": "code",
   "execution_count": 7,
   "id": "c31a88e9",
   "metadata": {},
   "outputs": [],
   "source": [
    "from skimage import img_as_float"
   ]
  },
  {
   "cell_type": "code",
   "execution_count": 8,
   "id": "0c2ac0e8",
   "metadata": {},
   "outputs": [],
   "source": [
    "img2 = img_as_float(img)"
   ]
  },
  {
   "cell_type": "code",
   "execution_count": 9,
   "id": "f9c36280",
   "metadata": {},
   "outputs": [
    {
     "name": "stdout",
     "output_type": "stream",
     "text": [
      "(4000, 6000, 3)\n"
     ]
    }
   ],
   "source": [
    "print(img2.shape)"
   ]
  },
  {
   "cell_type": "code",
   "execution_count": 10,
   "id": "7fa5f3a0",
   "metadata": {},
   "outputs": [
    {
     "name": "stdout",
     "output_type": "stream",
     "text": [
      "float64\n"
     ]
    }
   ],
   "source": [
    "print(img2.dtype)"
   ]
  },
  {
   "cell_type": "code",
   "execution_count": 11,
   "id": "57df6ce0",
   "metadata": {},
   "outputs": [
    {
     "name": "stdout",
     "output_type": "stream",
     "text": [
      "0.03529411764705882\n",
      "0.03137254901960784\n"
     ]
    }
   ],
   "source": [
    "print(img2[0][1][2])\n",
    "print(img2[3000][5000][1])"
   ]
  },
  {
   "cell_type": "markdown",
   "id": "bc37a213",
   "metadata": {},
   "source": [
    "- Everything remains the same, only the values are scaled between 0 and 1\n",
    "- Ensures each pixel has a similar data distribution making convergence faster during training"
   ]
  },
  {
   "cell_type": "markdown",
   "id": "8e2448e1",
   "metadata": {},
   "source": [
    "- WAFP to normalize all the images in image folder"
   ]
  },
  {
   "cell_type": "code",
   "execution_count": 12,
   "id": "77e5cc90",
   "metadata": {},
   "outputs": [],
   "source": [
    "import numpy as np"
   ]
  },
  {
   "cell_type": "code",
   "execution_count": 14,
   "id": "90d61e73",
   "metadata": {},
   "outputs": [],
   "source": [
    "img3 = img.astype(np.float64)"
   ]
  },
  {
   "cell_type": "code",
   "execution_count": 15,
   "id": "02a7f919",
   "metadata": {},
   "outputs": [
    {
     "name": "stdout",
     "output_type": "stream",
     "text": [
      "(4000, 6000, 3)\n"
     ]
    }
   ],
   "source": [
    "print(img3.shape)"
   ]
  },
  {
   "cell_type": "code",
   "execution_count": 16,
   "id": "e265d48e",
   "metadata": {},
   "outputs": [
    {
     "name": "stdout",
     "output_type": "stream",
     "text": [
      "float64\n"
     ]
    }
   ],
   "source": [
    "print(img3.dtype)"
   ]
  },
  {
   "cell_type": "code",
   "execution_count": 17,
   "id": "39114c35",
   "metadata": {},
   "outputs": [
    {
     "name": "stdout",
     "output_type": "stream",
     "text": [
      "9.0\n",
      "8.0\n"
     ]
    }
   ],
   "source": [
    "print(img3[0][1][2])\n",
    "print(img3[3000][5000][1])"
   ]
  },
  {
   "cell_type": "markdown",
   "id": "bf7d9d23",
   "metadata": {},
   "source": [
    "- Values are float but not scaled between 0.0 and 1.0\n",
    "- Do not do this"
   ]
  },
  {
   "cell_type": "code",
   "execution_count": 18,
   "id": "e14fa7f7",
   "metadata": {},
   "outputs": [],
   "source": [
    "from skimage import img_as_ubyte"
   ]
  },
  {
   "cell_type": "code",
   "execution_count": 19,
   "id": "dcde10e3",
   "metadata": {},
   "outputs": [],
   "source": [
    "img_8bit = img_as_ubyte(img2)"
   ]
  },
  {
   "cell_type": "code",
   "execution_count": 20,
   "id": "8634f096",
   "metadata": {},
   "outputs": [
    {
     "name": "stdout",
     "output_type": "stream",
     "text": [
      "(4000, 6000, 3)\n"
     ]
    }
   ],
   "source": [
    "print(img_8bit.shape)"
   ]
  },
  {
   "cell_type": "code",
   "execution_count": 21,
   "id": "ce6c592d",
   "metadata": {},
   "outputs": [
    {
     "name": "stdout",
     "output_type": "stream",
     "text": [
      "uint8\n"
     ]
    }
   ],
   "source": [
    "print(img_8bit.dtype)"
   ]
  },
  {
   "cell_type": "code",
   "execution_count": 22,
   "id": "c508331a",
   "metadata": {},
   "outputs": [
    {
     "name": "stdout",
     "output_type": "stream",
     "text": [
      "9\n",
      "8\n"
     ]
    }
   ],
   "source": [
    "print(img_8bit[0][1][2])\n",
    "print(img_8bit[3000][5000][1])"
   ]
  },
  {
   "cell_type": "markdown",
   "id": "53e3026e",
   "metadata": {},
   "source": [
    "- Converting it back to original form\n",
    "- Image --> Normalize --> Process the image --> Convert back --> Save it"
   ]
  },
  {
   "cell_type": "code",
   "execution_count": 7,
   "id": "43ea5b46",
   "metadata": {},
   "outputs": [],
   "source": [
    "import cv2"
   ]
  },
  {
   "cell_type": "code",
   "execution_count": 26,
   "id": "f26f9cc4",
   "metadata": {},
   "outputs": [],
   "source": [
    "img_cv2 = cv2.imread(r\"D:\\ML & DL\\IP@SP\\image folder\\stars.jpg\")"
   ]
  },
  {
   "cell_type": "code",
   "execution_count": 27,
   "id": "a4e10a7d",
   "metadata": {},
   "outputs": [
    {
     "name": "stdout",
     "output_type": "stream",
     "text": [
      "[[[ 9  4  6]\n",
      "  [ 9  4  6]\n",
      "  [ 9  4  6]\n",
      "  ...\n",
      "  [ 9  4  6]\n",
      "  [ 9  4  6]\n",
      "  [ 9  4  6]]\n",
      "\n",
      " [[ 9  4  6]\n",
      "  [ 9  4  6]\n",
      "  [ 9  4  6]\n",
      "  ...\n",
      "  [ 9  4  6]\n",
      "  [ 9  4  6]\n",
      "  [ 9  4  6]]\n",
      "\n",
      " [[ 9  4  6]\n",
      "  [ 9  4  6]\n",
      "  [ 9  4  6]\n",
      "  ...\n",
      "  [ 9  4  6]\n",
      "  [ 9  4  6]\n",
      "  [ 9  4  6]]\n",
      "\n",
      " ...\n",
      "\n",
      " [[47  0 16]\n",
      "  [48  1 17]\n",
      "  [48  1 17]\n",
      "  ...\n",
      "  [32  1 10]\n",
      "  [31  0  9]\n",
      "  [30  0  8]]\n",
      "\n",
      " [[47  0 16]\n",
      "  [48  1 17]\n",
      "  [48  1 17]\n",
      "  ...\n",
      "  [33  2 11]\n",
      "  [32  1 10]\n",
      "  [31  0  9]]\n",
      "\n",
      " [[48  1 17]\n",
      "  [48  1 17]\n",
      "  [48  1 17]\n",
      "  ...\n",
      "  [34  3 12]\n",
      "  [32  1 10]\n",
      "  [32  1 10]]]\n"
     ]
    }
   ],
   "source": [
    "print(img_cv2)"
   ]
  },
  {
   "cell_type": "code",
   "execution_count": 28,
   "id": "53f2b0b3",
   "metadata": {},
   "outputs": [
    {
     "name": "stdout",
     "output_type": "stream",
     "text": [
      "[[[ 6  4  9]\n",
      "  [ 6  4  9]\n",
      "  [ 6  4  9]\n",
      "  ...\n",
      "  [ 6  4  9]\n",
      "  [ 6  4  9]\n",
      "  [ 6  4  9]]\n",
      "\n",
      " [[ 6  4  9]\n",
      "  [ 6  4  9]\n",
      "  [ 6  4  9]\n",
      "  ...\n",
      "  [ 6  4  9]\n",
      "  [ 6  4  9]\n",
      "  [ 6  4  9]]\n",
      "\n",
      " [[ 6  4  9]\n",
      "  [ 6  4  9]\n",
      "  [ 6  4  9]\n",
      "  ...\n",
      "  [ 6  4  9]\n",
      "  [ 6  4  9]\n",
      "  [ 6  4  9]]\n",
      "\n",
      " ...\n",
      "\n",
      " [[16  0 47]\n",
      "  [17  1 48]\n",
      "  [17  1 48]\n",
      "  ...\n",
      "  [10  1 32]\n",
      "  [ 9  0 31]\n",
      "  [ 8  0 30]]\n",
      "\n",
      " [[16  0 47]\n",
      "  [17  1 48]\n",
      "  [17  1 48]\n",
      "  ...\n",
      "  [11  2 33]\n",
      "  [10  1 32]\n",
      "  [ 9  0 31]]\n",
      "\n",
      " [[17  1 48]\n",
      "  [17  1 48]\n",
      "  [17  1 48]\n",
      "  ...\n",
      "  [12  3 34]\n",
      "  [10  1 32]\n",
      "  [10  1 32]]]\n"
     ]
    }
   ],
   "source": [
    "print(img)"
   ]
  },
  {
   "cell_type": "markdown",
   "id": "77b14ac3",
   "metadata": {},
   "source": [
    "- opencv reads images as BGR\n",
    "- Central channel remains the same\n",
    "- Red and Blue channels have been swapped"
   ]
  },
  {
   "cell_type": "code",
   "execution_count": 30,
   "id": "063e7781",
   "metadata": {},
   "outputs": [
    {
     "name": "stdout",
     "output_type": "stream",
     "text": [
      "(4000, 6000, 3)\n",
      "(4000, 6000, 3)\n"
     ]
    }
   ],
   "source": [
    "print(img_cv2.shape)\n",
    "print(img.shape)"
   ]
  },
  {
   "cell_type": "code",
   "execution_count": 31,
   "id": "aa5904d3",
   "metadata": {},
   "outputs": [
    {
     "name": "stdout",
     "output_type": "stream",
     "text": [
      "uint8\n",
      "uint8\n"
     ]
    }
   ],
   "source": [
    "print(img_cv2.dtype)\n",
    "print(img.dtype)"
   ]
  },
  {
   "cell_type": "code",
   "execution_count": 32,
   "id": "f1be7736",
   "metadata": {},
   "outputs": [],
   "source": [
    "img_cameraman = cv2.imread(r\"D:\\ML & DL\\IP@SP\\image folder\\cameraman.png\")"
   ]
  },
  {
   "cell_type": "code",
   "execution_count": 33,
   "id": "0c3f03c2",
   "metadata": {},
   "outputs": [
    {
     "data": {
      "text/plain": [
       "(490, 487, 3)"
      ]
     },
     "execution_count": 33,
     "metadata": {},
     "output_type": "execute_result"
    }
   ],
   "source": [
    "img_cameraman.shape"
   ]
  },
  {
   "cell_type": "code",
   "execution_count": 35,
   "id": "e5b02d23",
   "metadata": {},
   "outputs": [
    {
     "data": {
      "text/plain": [
       "array([[249, 249, 249],\n",
       "       [251, 251, 251],\n",
       "       [251, 251, 251],\n",
       "       ...,\n",
       "       [253, 253, 253],\n",
       "       [251, 251, 251],\n",
       "       [253, 253, 253]], dtype=uint8)"
      ]
     },
     "execution_count": 35,
     "metadata": {},
     "output_type": "execute_result"
    }
   ],
   "source": [
    "img_cameraman[0]"
   ]
  },
  {
   "cell_type": "code",
   "execution_count": 36,
   "id": "d5b63dae",
   "metadata": {},
   "outputs": [],
   "source": [
    "img2_cameraman = io.imread(r\"D:\\ML & DL\\IP@SP\\image folder\\cameraman.png\")"
   ]
  },
  {
   "cell_type": "code",
   "execution_count": 37,
   "id": "8e1c46a9",
   "metadata": {},
   "outputs": [
    {
     "data": {
      "text/plain": [
       "(490, 487)"
      ]
     },
     "execution_count": 37,
     "metadata": {},
     "output_type": "execute_result"
    }
   ],
   "source": [
    "img2_cameraman.shape"
   ]
  },
  {
   "cell_type": "code",
   "execution_count": 38,
   "id": "85851c20",
   "metadata": {},
   "outputs": [
    {
     "data": {
      "text/plain": [
       "array([249, 251, 251, 253, 255, 255, 253, 253, 251, 253, 253, 255, 255,\n",
       "       255, 255, 253, 253, 253, 253, 253, 253, 253, 255, 255, 253, 255,\n",
       "       255, 253, 253, 253, 255, 255, 253, 255, 255, 255, 253, 253, 255,\n",
       "       255, 255, 255, 255, 255, 255, 255, 255, 255, 255, 255, 253, 255,\n",
       "       255, 255, 255, 255, 255, 255, 255, 255, 255, 255, 255, 255, 255,\n",
       "       255, 255, 255, 255, 255, 255, 255, 253, 253, 253, 255, 255, 255,\n",
       "       255, 255, 255, 255, 255, 255, 255, 255, 255, 255, 255, 255, 255,\n",
       "       255, 255, 255, 255, 255, 255, 255, 255, 255, 253, 253, 253, 253,\n",
       "       255, 255, 255, 255, 255, 255, 255, 255, 255, 255, 255, 255, 255,\n",
       "       255, 255, 255, 251, 251, 253, 253, 253, 255, 255, 255, 255, 255,\n",
       "       253, 253, 255, 255, 255, 255, 253, 253, 253, 253, 253, 255, 255,\n",
       "       255, 255, 255, 255, 255, 255, 255, 255, 255, 255, 255, 255, 255,\n",
       "       255, 255, 255, 255, 255, 255, 255, 255, 255, 255, 255, 255, 255,\n",
       "       255, 255, 255, 255, 255, 255, 255, 253, 255, 255, 255, 255, 255,\n",
       "       255, 255, 255, 255, 255, 255, 255, 255, 255, 255, 255, 255, 253,\n",
       "       253, 255, 255, 255, 255, 255, 255, 255, 255, 255, 253, 253, 253,\n",
       "       255, 255, 253, 255, 255, 255, 255, 253, 253, 255, 255, 255, 253,\n",
       "       253, 255, 255, 255, 255, 255, 255, 255, 255, 255, 255, 255, 255,\n",
       "       255, 255, 255, 255, 255, 255, 255, 255, 255, 255, 255, 255, 255,\n",
       "       255, 255, 255, 255, 255, 255, 255, 255, 255, 255, 255, 255, 255,\n",
       "       255, 255, 255, 255, 255, 255, 255, 255, 255, 255, 255, 255, 255,\n",
       "       255, 253, 255, 255, 255, 255, 253, 255, 255, 255, 255, 255, 255,\n",
       "       255, 255, 253, 253, 255, 255, 255, 255, 255, 255, 255, 255, 255,\n",
       "       255, 255, 255, 255, 255, 255, 255, 255, 255, 255, 255, 255, 255,\n",
       "       255, 255, 255, 255, 255, 255, 255, 255, 255, 255, 255, 255, 255,\n",
       "       255, 255, 255, 255, 255, 255, 255, 255, 255, 253, 253, 255, 255,\n",
       "       255, 255, 255, 255, 255, 255, 255, 255, 255, 255, 255, 255, 255,\n",
       "       255, 255, 255, 255, 255, 255, 255, 255, 255, 255, 255, 255, 255,\n",
       "       255, 255, 255, 255, 255, 255, 255, 255, 255, 255, 255, 255, 255,\n",
       "       255, 255, 255, 255, 255, 255, 255, 255, 255, 253, 253, 255, 255,\n",
       "       255, 255, 253, 255, 255, 255, 255, 253, 255, 255, 255, 255, 255,\n",
       "       255, 255, 255, 253, 253, 255, 255, 253, 253, 255, 255, 253, 251,\n",
       "       251, 251, 253, 253, 255, 255, 255, 255, 255, 255, 255, 255, 255,\n",
       "       255, 255, 255, 255, 255, 255, 255, 255, 253, 253, 251, 253, 253,\n",
       "       255, 253, 253, 253, 255, 255, 255, 255, 255, 255, 255, 255, 253,\n",
       "       253, 255, 255, 255, 255, 255, 255, 255, 255, 255, 255, 255, 253,\n",
       "       253, 253, 255, 255, 255, 255, 255, 253, 253, 253, 253, 253, 253,\n",
       "       255, 255, 255, 253, 251, 253], dtype=uint8)"
      ]
     },
     "execution_count": 38,
     "metadata": {},
     "output_type": "execute_result"
    }
   ],
   "source": [
    "img2_cameraman[0]"
   ]
  },
  {
   "cell_type": "code",
   "execution_count": 42,
   "id": "49c6ea3b",
   "metadata": {},
   "outputs": [],
   "source": [
    "img_cameraman_grey = cv2.imread(r\"D:\\ML & DL\\IP@SP\\image folder\\cameraman.png\", 0)"
   ]
  },
  {
   "cell_type": "markdown",
   "id": "ab578a87",
   "metadata": {},
   "source": [
    "- Use 0 flag to read the image as greyscale\n",
    "- Use 1 flag to read the image with colour channels"
   ]
  },
  {
   "cell_type": "markdown",
   "id": "d6860697",
   "metadata": {},
   "source": [
    "- WAFP to check whether a JPEG image is coloured or grayscale; use the demo file in image folder to test your results"
   ]
  },
  {
   "cell_type": "code",
   "execution_count": 43,
   "id": "edb6f0bd",
   "metadata": {},
   "outputs": [],
   "source": [
    "img_cv2_RGB = cv2.cvtColor(img_cv2, cv2.COLOR_BGR2RGB)"
   ]
  },
  {
   "cell_type": "code",
   "execution_count": 44,
   "id": "cb1e1b38",
   "metadata": {},
   "outputs": [
    {
     "name": "stdout",
     "output_type": "stream",
     "text": [
      "[[[ 6  4  9]\n",
      "  [ 6  4  9]\n",
      "  [ 6  4  9]\n",
      "  ...\n",
      "  [ 6  4  9]\n",
      "  [ 6  4  9]\n",
      "  [ 6  4  9]]\n",
      "\n",
      " [[ 6  4  9]\n",
      "  [ 6  4  9]\n",
      "  [ 6  4  9]\n",
      "  ...\n",
      "  [ 6  4  9]\n",
      "  [ 6  4  9]\n",
      "  [ 6  4  9]]\n",
      "\n",
      " [[ 6  4  9]\n",
      "  [ 6  4  9]\n",
      "  [ 6  4  9]\n",
      "  ...\n",
      "  [ 6  4  9]\n",
      "  [ 6  4  9]\n",
      "  [ 6  4  9]]\n",
      "\n",
      " ...\n",
      "\n",
      " [[16  0 47]\n",
      "  [17  1 48]\n",
      "  [17  1 48]\n",
      "  ...\n",
      "  [10  1 32]\n",
      "  [ 9  0 31]\n",
      "  [ 8  0 30]]\n",
      "\n",
      " [[16  0 47]\n",
      "  [17  1 48]\n",
      "  [17  1 48]\n",
      "  ...\n",
      "  [11  2 33]\n",
      "  [10  1 32]\n",
      "  [ 9  0 31]]\n",
      "\n",
      " [[17  1 48]\n",
      "  [17  1 48]\n",
      "  [17  1 48]\n",
      "  ...\n",
      "  [12  3 34]\n",
      "  [10  1 32]\n",
      "  [10  1 32]]]\n"
     ]
    }
   ],
   "source": [
    "print(img_cv2_RGB)"
   ]
  },
  {
   "cell_type": "markdown",
   "id": "62d0ac28",
   "metadata": {},
   "source": [
    "- Use skimage and cv2 to read images\n",
    "- Both open images as numpy arrays, meaning that the images are ready to be processed"
   ]
  },
  {
   "cell_type": "code",
   "execution_count": 2,
   "id": "c6076091",
   "metadata": {},
   "outputs": [
    {
     "data": {
      "text/plain": [
       "(480, 512, 3)"
      ]
     },
     "execution_count": 2,
     "metadata": {},
     "output_type": "execute_result"
    }
   ],
   "source": [
    "img_pens = io.imread(r\"D:\\ML & DL\\IP@SP\\image folder\\pens.bmp\")\n",
    "img_pens.shape"
   ]
  },
  {
   "cell_type": "code",
   "execution_count": 3,
   "id": "89ebf2ca",
   "metadata": {},
   "outputs": [
    {
     "data": {
      "text/plain": [
       "255"
      ]
     },
     "execution_count": 3,
     "metadata": {},
     "output_type": "execute_result"
    }
   ],
   "source": [
    "img_pens.max()"
   ]
  },
  {
   "cell_type": "code",
   "execution_count": 4,
   "id": "0020a6b5",
   "metadata": {},
   "outputs": [
    {
     "data": {
      "text/plain": [
       "0"
      ]
     },
     "execution_count": 4,
     "metadata": {},
     "output_type": "execute_result"
    }
   ],
   "source": [
    "img_pens.min()"
   ]
  },
  {
   "cell_type": "code",
   "execution_count": null,
   "id": "cedf8b17",
   "metadata": {},
   "outputs": [],
   "source": []
  },
  {
   "cell_type": "code",
   "execution_count": 61,
   "id": "a3dac731",
   "metadata": {},
   "outputs": [],
   "source": [
    "img_pens = img_pens * 0.5"
   ]
  },
  {
   "cell_type": "code",
   "execution_count": 62,
   "id": "6286bc21",
   "metadata": {},
   "outputs": [
    {
     "data": {
      "text/plain": [
       "127.0"
      ]
     },
     "execution_count": 62,
     "metadata": {},
     "output_type": "execute_result"
    }
   ],
   "source": [
    "img_pens.max()"
   ]
  },
  {
   "cell_type": "code",
   "execution_count": 63,
   "id": "b60f9f07",
   "metadata": {},
   "outputs": [
    {
     "data": {
      "text/plain": [
       "0.0"
      ]
     },
     "execution_count": 63,
     "metadata": {},
     "output_type": "execute_result"
    }
   ],
   "source": [
    "img_pens.min()"
   ]
  },
  {
   "cell_type": "code",
   "execution_count": 68,
   "id": "f4167b7c",
   "metadata": {},
   "outputs": [
    {
     "name": "stderr",
     "output_type": "stream",
     "text": [
      "Lossy conversion from float64 to uint8. Range [0.0, 127.0]. Convert image to uint8 prior to saving to suppress this warning.\n"
     ]
    }
   ],
   "source": [
    "io.imsave(\"saved images/scaled_pens.jpg\", img_pens)"
   ]
  },
  {
   "cell_type": "code",
   "execution_count": 69,
   "id": "c0aad3cf",
   "metadata": {},
   "outputs": [],
   "source": [
    "from skimage import filters"
   ]
  },
  {
   "cell_type": "code",
   "execution_count": 72,
   "id": "60b3cfbf",
   "metadata": {},
   "outputs": [
    {
     "data": {
      "text/plain": [
       "(1600, 1600)"
      ]
     },
     "execution_count": 72,
     "metadata": {},
     "output_type": "execute_result"
    }
   ],
   "source": [
    "img_chestxray = io.imread(r\"D:\\ML & DL\\IP@SP\\image folder\\chestxray.jpg\")\n",
    "img_chestxray.shape"
   ]
  },
  {
   "cell_type": "code",
   "execution_count": 73,
   "id": "ce9e9e5b",
   "metadata": {},
   "outputs": [
    {
     "name": "stderr",
     "output_type": "stream",
     "text": [
      "Lossy conversion from float64 to uint8. Range [0, 1]. Convert image to uint8 prior to saving to suppress this warning.\n"
     ]
    }
   ],
   "source": [
    "gaussian_img = filters.gaussian(img_chestxray, sigma=2)\n",
    "io.imsave(\"saved images/chestxray@gaussian.jpg\", gaussian_img)"
   ]
  },
  {
   "cell_type": "code",
   "execution_count": 74,
   "id": "ed49ccaa",
   "metadata": {},
   "outputs": [],
   "source": [
    "from skimage import img_as_ubyte\n",
    "gaussian_img_8bit = img_as_ubyte(gaussian_img)"
   ]
  },
  {
   "cell_type": "code",
   "execution_count": 76,
   "id": "b5fcffd4",
   "metadata": {},
   "outputs": [],
   "source": [
    "io.imsave(\"saved images/chestxray@gaussian2.jpg\", gaussian_img_8bit)"
   ]
  },
  {
   "cell_type": "code",
   "execution_count": 77,
   "id": "e4ce7952",
   "metadata": {},
   "outputs": [
    {
     "data": {
      "text/plain": [
       "True"
      ]
     },
     "execution_count": 77,
     "metadata": {},
     "output_type": "execute_result"
    }
   ],
   "source": [
    "cv2.imwrite(\"saved images/chestxray@gaussian3.jpg\", gaussian_img_8bit)"
   ]
  },
  {
   "cell_type": "code",
   "execution_count": null,
   "id": "ede4bcf4",
   "metadata": {},
   "outputs": [],
   "source": []
  }
 ],
 "metadata": {
  "kernelspec": {
   "display_name": "Python 3 (ipykernel)",
   "language": "python",
   "name": "python3"
  },
  "language_info": {
   "codemirror_mode": {
    "name": "ipython",
    "version": 3
   },
   "file_extension": ".py",
   "mimetype": "text/x-python",
   "name": "python",
   "nbconvert_exporter": "python",
   "pygments_lexer": "ipython3",
   "version": "3.9.13"
  }
 },
 "nbformat": 4,
 "nbformat_minor": 5
}
