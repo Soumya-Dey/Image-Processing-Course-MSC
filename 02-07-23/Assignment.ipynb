{
 "cells": [
  {
   "cell_type": "code",
   "execution_count": 18,
   "metadata": {},
   "outputs": [],
   "source": [
    "import os\n",
    "import shutil"
   ]
  },
  {
   "cell_type": "code",
   "execution_count": 2,
   "metadata": {},
   "outputs": [],
   "source": [
    "path = r\"C:\\Users\\vfd\\Desktop\\537 SOUMYA DEY\\Image Processing [SP+AN]\\07-02-23\\image folder\""
   ]
  },
  {
   "cell_type": "markdown",
   "metadata": {},
   "source": [
    "#### 1. Get the count of files in folder"
   ]
  },
  {
   "cell_type": "code",
   "execution_count": 3,
   "metadata": {},
   "outputs": [],
   "source": [
    "def getFileCount(path):\n",
    "    return len(os.listdir(path))"
   ]
  },
  {
   "cell_type": "code",
   "execution_count": 4,
   "metadata": {},
   "outputs": [
    {
     "data": {
      "text/plain": [
       "22"
      ]
     },
     "execution_count": 4,
     "metadata": {},
     "output_type": "execute_result"
    }
   ],
   "source": [
    "getFileCount(path)"
   ]
  },
  {
   "cell_type": "code",
   "execution_count": 5,
   "metadata": {},
   "outputs": [],
   "source": [
    "def getFiles(path):\n",
    "    return os.listdir(path)"
   ]
  },
  {
   "cell_type": "markdown",
   "metadata": {},
   "source": [
    "#### 2. Get the count of files of each extension in a folder"
   ]
  },
  {
   "cell_type": "code",
   "execution_count": 6,
   "metadata": {},
   "outputs": [],
   "source": [
    "def getGropuedObj(path):\n",
    "    files = getFiles(path)\n",
    "    groupedObj = {}\n",
    "\n",
    "    for f in files:\n",
    "        ext = f.split(\".\")[-1]\n",
    "        groupedObj[ext] = groupedObj[ext] + 1 if ext in groupedObj else 1\n",
    "        \n",
    "    return groupedObj"
   ]
  },
  {
   "cell_type": "code",
   "execution_count": 7,
   "metadata": {},
   "outputs": [
    {
     "data": {
      "text/plain": [
       "{'png': 5, 'jpg': 9, 'jpeg': 1, 'bmp': 6, 'db': 1}"
      ]
     },
     "execution_count": 7,
     "metadata": {},
     "output_type": "execute_result"
    }
   ],
   "source": [
    "getGropuedObj(path)"
   ]
  },
  {
   "cell_type": "markdown",
   "metadata": {},
   "source": [
    "#### 3. Rename the files in task1 folder using the following convention: 1_MIR, 2_MIR, 1_TIR1, 2_TIR2, etc.\n",
    "#### 4. Create a directory called storm_images, under which you need to create 3 sub directories TIR1, TIR2 and MIR.\n",
    "#### 5. Transfer the renamed files to the corresponding directories TIR1, TIR2, MIR."
   ]
  },
  {
   "cell_type": "code",
   "execution_count": 22,
   "metadata": {},
   "outputs": [],
   "source": [
    "task1Path = r\"C:\\Users\\vfd\\Desktop\\537 SOUMYA DEY\\Image Processing [SP+AN]\\07-02-23\\task 1\\renamed\""
   ]
  },
  {
   "cell_type": "code",
   "execution_count": 35,
   "metadata": {},
   "outputs": [],
   "source": [
    "def renameAndMove(path):\n",
    "    fileObj = {\n",
    "        \"MIR.jpg\": 1,\n",
    "        \"TIR1.jpg\": 1,\n",
    "        \"TIR2.jpg\": 1\n",
    "    }\n",
    "    files = getFiles(path)\n",
    "    \n",
    "    os.mkdir(os.path.join(path, \"storm_images\"))\n",
    "    for directory in fileObj:\n",
    "        newDir = directory.split(\".\")[0]\n",
    "        os.mkdir(os.path.join(path, \"storm_images\", newDir))\n",
    "\n",
    "    for f in files:\n",
    "        endingWith = f.split(\"_\")[-1]\n",
    "\n",
    "        newFileName = str(fileObj[endingWith]) + \"_\" + endingWith\n",
    "        os.rename(os.path.join(path, f), os.path.join(path, newFileName))\n",
    "        \n",
    "        newDir = endingWith.split(\".\")[0]\n",
    "        shutil.move(os.path.join(path, newFileName), os.path.join(path, \"storm_images\", newDir, newFileName))\n",
    "        \n",
    "        fileObj[endingWith] += 1"
   ]
  },
  {
   "cell_type": "code",
   "execution_count": 36,
   "metadata": {},
   "outputs": [],
   "source": [
    "renameAndMove(task1Path)"
   ]
  }
 ],
 "metadata": {
  "kernelspec": {
   "display_name": "Python 3",
   "language": "python",
   "name": "python3"
  },
  "language_info": {
   "codemirror_mode": {
    "name": "ipython",
    "version": 3
   },
   "file_extension": ".py",
   "mimetype": "text/x-python",
   "name": "python",
   "nbconvert_exporter": "python",
   "pygments_lexer": "ipython3",
   "version": "3.7.1"
  }
 },
 "nbformat": 4,
 "nbformat_minor": 2
}
